{
 "metadata": {
  "language_info": {
   "codemirror_mode": {
    "name": "ipython",
    "version": 3
   },
   "file_extension": ".py",
   "mimetype": "text/x-python",
   "name": "python",
   "nbconvert_exporter": "python",
   "pygments_lexer": "ipython3",
   "version": "3.8.3-final"
  },
  "orig_nbformat": 2,
  "kernelspec": {
   "name": "python3",
   "display_name": "Python 3",
   "language": "python"
  }
 },
 "nbformat": 4,
 "nbformat_minor": 2,
 "cells": [
  {
   "source": [
    "# 安装pymysql\n",
    "```\n",
    "pip install pymysql\n",
    "```"
   ],
   "cell_type": "markdown",
   "metadata": {}
  },
  {
   "cell_type": "code",
   "execution_count": 1,
   "metadata": {},
   "outputs": [],
   "source": [
    "import pymysql as pml"
   ]
  },
  {
   "source": [
    "# 创建数据库连接  \n",
    "> pymysql.connect()  \n",
    "> 常用参数：\n",
    "> host: 数据库地址  \n",
    "> port: 端口号    \n",
    "> user: 用户名  \n",
    "> password: 密码  \n",
    "> database: 需要打开的数据库，不指定，则建立与数据库的连接，在sql语句中指定  \n",
    "> charset: 编码类型\n",
    "> use_unicode :是否使用双字节编码  "
   ],
   "cell_type": "markdown",
   "metadata": {}
  },
  {
   "cell_type": "code",
   "execution_count": 4,
   "metadata": {},
   "outputs": [],
   "source": [
    "conn = pml.connect(host='127.0.0.1',port = 3306,user='root',password='123456',database='mytest',charset='utf8')"
   ]
  },
  {
   "source": [
    "# 读取数据方法1"
   ],
   "cell_type": "markdown",
   "metadata": {}
  },
  {
   "source": [
    "> conn.select_db() 设定当前查询的默认数据库  \n",
    "> conn.cursor()  返回查询游标，用于执行查询  \n",
    "> conn.close() 关闭连接  "
   ],
   "cell_type": "markdown",
   "metadata": {}
  },
  {
   "source": [
    "## 创建游标  \n",
    "> cur.execute(sql,args=None)  执行查询的语句，和查询语句中的参数列表  \n",
    "> cur.executemany(sql,args=None)  执行多条语句，比如insert等  \n",
    "> cur.fetchall()  获取全部的查询结果  \n",
    "> cur.fetchone() 获取下一条记录  \n",
    "> cur.fetchmany(size) 获取指定条记录  \n"
   ],
   "cell_type": "markdown",
   "metadata": {}
  },
  {
   "cell_type": "code",
   "execution_count": 5,
   "metadata": {},
   "outputs": [],
   "source": [
    "cur = conn.cursor() \n"
   ]
  },
  {
   "source": [
    "## 定义查询语句"
   ],
   "cell_type": "markdown",
   "metadata": {}
  },
  {
   "cell_type": "code",
   "execution_count": 6,
   "metadata": {},
   "outputs": [],
   "source": [
    "sql = \"\"\"\n",
    "select *\n",
    "from babyinfo\n",
    "limit 5;\n",
    "\"\"\""
   ]
  },
  {
   "source": [
    "## 执行查询"
   ],
   "cell_type": "markdown",
   "metadata": {}
  },
  {
   "cell_type": "code",
   "execution_count": 7,
   "metadata": {},
   "outputs": [
    {
     "output_type": "execute_result",
     "data": {
      "text/plain": [
       "5"
      ]
     },
     "metadata": {},
     "execution_count": 7
    }
   ],
   "source": [
    "cur.execute(sql)"
   ]
  },
  {
   "source": [
    "## 查看结果"
   ],
   "cell_type": "markdown",
   "metadata": {}
  },
  {
   "cell_type": "code",
   "execution_count": 8,
   "metadata": {},
   "outputs": [
    {
     "output_type": "execute_result",
     "data": {
      "text/plain": [
       "(('2757', datetime.date(2013, 3, 11), '1'),\n",
       " ('415971', datetime.date(2012, 11, 11), '0'),\n",
       " ('1372572', datetime.date(2012, 1, 30), '1'),\n",
       " ('10339332', datetime.date(2011, 9, 10), '0'),\n",
       " ('10642245', datetime.date(2013, 2, 13), '0'))"
      ]
     },
     "metadata": {},
     "execution_count": 8
    }
   ],
   "source": [
    "cur.fetchall() "
   ]
  },
  {
   "source": [
    "# 读取方法2"
   ],
   "cell_type": "markdown",
   "metadata": {}
  },
  {
   "source": [
    "## 使用pandas读取"
   ],
   "cell_type": "markdown",
   "metadata": {}
  },
  {
   "cell_type": "code",
   "execution_count": 9,
   "metadata": {},
   "outputs": [
    {
     "output_type": "execute_result",
     "data": {
      "text/plain": [
       "    user_id    birthday gender\n",
       "0      2757  2013-03-11      1\n",
       "1    415971  2012-11-11      0\n",
       "2   1372572  2012-01-30      1\n",
       "3  10339332  2011-09-10      0\n",
       "4  10642245  2013-02-13      0"
      ],
      "text/html": "<div>\n<style scoped>\n    .dataframe tbody tr th:only-of-type {\n        vertical-align: middle;\n    }\n\n    .dataframe tbody tr th {\n        vertical-align: top;\n    }\n\n    .dataframe thead th {\n        text-align: right;\n    }\n</style>\n<table border=\"1\" class=\"dataframe\">\n  <thead>\n    <tr style=\"text-align: right;\">\n      <th></th>\n      <th>user_id</th>\n      <th>birthday</th>\n      <th>gender</th>\n    </tr>\n  </thead>\n  <tbody>\n    <tr>\n      <th>0</th>\n      <td>2757</td>\n      <td>2013-03-11</td>\n      <td>1</td>\n    </tr>\n    <tr>\n      <th>1</th>\n      <td>415971</td>\n      <td>2012-11-11</td>\n      <td>0</td>\n    </tr>\n    <tr>\n      <th>2</th>\n      <td>1372572</td>\n      <td>2012-01-30</td>\n      <td>1</td>\n    </tr>\n    <tr>\n      <th>3</th>\n      <td>10339332</td>\n      <td>2011-09-10</td>\n      <td>0</td>\n    </tr>\n    <tr>\n      <th>4</th>\n      <td>10642245</td>\n      <td>2013-02-13</td>\n      <td>0</td>\n    </tr>\n  </tbody>\n</table>\n</div>"
     },
     "metadata": {},
     "execution_count": 9
    }
   ],
   "source": [
    "import pandas as pd \n",
    "pd.read_sql(sql,conn)"
   ]
  },
  {
   "source": [
    "## 定义pandas连接函数\n",
    "> pandas.read_sql(sql, con, index_col=None, coerce_float=True, params=None, parse_dates=None, columns=None, chunksize=None)  \n",
    "> sql :查询字符串  \n",
    "> con :连接器  \n",
    "> index_col :作为index的列名列表  \n",
    "> coerce_float :是否将所有数字格式的列，转换为float类型  \n",
    "> params : 传入con.execute() 的其他参数字典\n",
    "> parse_dates : 需要转换为日期的列名列表，或{column_name: format string}字典  \n",
    "> chunksize :是否返回迭代器，每次取chunksize条数据 "
   ],
   "cell_type": "markdown",
   "metadata": {}
  },
  {
   "cell_type": "code",
   "execution_count": 12,
   "metadata": {},
   "outputs": [],
   "source": [
    "def con_mysql(sql):\n",
    "    \"\"\"\n",
    "    sql:查询语句\n",
    "    返回：查询结果，dataframe\n",
    "    \"\"\"\n",
    "    from pandas import read_sql\n",
    "    from pymysql import connect\n",
    "    conn = connect(host='127.0.0.1',port = 3306,user='root',password='123456',database='mytest',charset='utf8')\n",
    "    df=read_sql(sql,conn)\n",
    "    # 关闭数据库连接\n",
    "    conn.close()\n",
    "    return df\n"
   ]
  },
  {
   "source": [
    "# 关闭连接"
   ],
   "cell_type": "markdown",
   "metadata": {}
  },
  {
   "cell_type": "code",
   "execution_count": 10,
   "metadata": {},
   "outputs": [],
   "source": [
    "cur.close() \n",
    "conn.close()\n"
   ]
  }
 ]
}