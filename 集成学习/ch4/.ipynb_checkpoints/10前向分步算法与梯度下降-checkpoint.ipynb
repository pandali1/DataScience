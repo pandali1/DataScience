{
 "cells": [
  {
   "cell_type": "markdown",
   "metadata": {},
   "source": [
    "# 数据读取"
   ]
  },
  {
   "cell_type": "code",
   "execution_count": 1,
   "metadata": {},
   "outputs": [],
   "source": [
    "import matplotlib.pyplot as plt\n",
    "import numpy as np\n",
    "from sklearn import datasets, ensemble\n",
    "from sklearn.inspection import permutation_importance\n",
    "from sklearn.metrics import mean_squared_error\n",
    "from sklearn.model_selection import train_test_split"
   ]
  },
  {
   "cell_type": "code",
   "execution_count": 2,
   "metadata": {},
   "outputs": [],
   "source": [
    "data = datasets.load_diabetes()\n",
    "X,y = data.data,data.target"
   ]
  },
  {
   "cell_type": "code",
   "execution_count": 6,
   "metadata": {},
   "outputs": [
    {
     "data": {
      "text/html": [
       "<div>\n",
       "<style scoped>\n",
       "    .dataframe tbody tr th:only-of-type {\n",
       "        vertical-align: middle;\n",
       "    }\n",
       "\n",
       "    .dataframe tbody tr th {\n",
       "        vertical-align: top;\n",
       "    }\n",
       "\n",
       "    .dataframe thead th {\n",
       "        text-align: right;\n",
       "    }\n",
       "</style>\n",
       "<table border=\"1\" class=\"dataframe\">\n",
       "  <thead>\n",
       "    <tr style=\"text-align: right;\">\n",
       "      <th></th>\n",
       "      <th>age</th>\n",
       "      <th>sex</th>\n",
       "      <th>bmi</th>\n",
       "      <th>bp</th>\n",
       "      <th>s1</th>\n",
       "      <th>s2</th>\n",
       "      <th>s3</th>\n",
       "      <th>s4</th>\n",
       "      <th>s5</th>\n",
       "      <th>s6</th>\n",
       "    </tr>\n",
       "  </thead>\n",
       "  <tbody>\n",
       "    <tr>\n",
       "      <th>0</th>\n",
       "      <td>0.038076</td>\n",
       "      <td>0.050680</td>\n",
       "      <td>0.061696</td>\n",
       "      <td>0.021872</td>\n",
       "      <td>-0.044223</td>\n",
       "      <td>-0.034821</td>\n",
       "      <td>-0.043401</td>\n",
       "      <td>-0.002592</td>\n",
       "      <td>0.019908</td>\n",
       "      <td>-0.017646</td>\n",
       "    </tr>\n",
       "    <tr>\n",
       "      <th>1</th>\n",
       "      <td>-0.001882</td>\n",
       "      <td>-0.044642</td>\n",
       "      <td>-0.051474</td>\n",
       "      <td>-0.026328</td>\n",
       "      <td>-0.008449</td>\n",
       "      <td>-0.019163</td>\n",
       "      <td>0.074412</td>\n",
       "      <td>-0.039493</td>\n",
       "      <td>-0.068330</td>\n",
       "      <td>-0.092204</td>\n",
       "    </tr>\n",
       "    <tr>\n",
       "      <th>2</th>\n",
       "      <td>0.085299</td>\n",
       "      <td>0.050680</td>\n",
       "      <td>0.044451</td>\n",
       "      <td>-0.005671</td>\n",
       "      <td>-0.045599</td>\n",
       "      <td>-0.034194</td>\n",
       "      <td>-0.032356</td>\n",
       "      <td>-0.002592</td>\n",
       "      <td>0.002864</td>\n",
       "      <td>-0.025930</td>\n",
       "    </tr>\n",
       "    <tr>\n",
       "      <th>3</th>\n",
       "      <td>-0.089063</td>\n",
       "      <td>-0.044642</td>\n",
       "      <td>-0.011595</td>\n",
       "      <td>-0.036656</td>\n",
       "      <td>0.012191</td>\n",
       "      <td>0.024991</td>\n",
       "      <td>-0.036038</td>\n",
       "      <td>0.034309</td>\n",
       "      <td>0.022692</td>\n",
       "      <td>-0.009362</td>\n",
       "    </tr>\n",
       "    <tr>\n",
       "      <th>4</th>\n",
       "      <td>0.005383</td>\n",
       "      <td>-0.044642</td>\n",
       "      <td>-0.036385</td>\n",
       "      <td>0.021872</td>\n",
       "      <td>0.003935</td>\n",
       "      <td>0.015596</td>\n",
       "      <td>0.008142</td>\n",
       "      <td>-0.002592</td>\n",
       "      <td>-0.031991</td>\n",
       "      <td>-0.046641</td>\n",
       "    </tr>\n",
       "  </tbody>\n",
       "</table>\n",
       "</div>"
      ],
      "text/plain": [
       "        age       sex       bmi        bp        s1        s2        s3        s4        s5        s6\n",
       "0  0.038076  0.050680  0.061696  0.021872 -0.044223 -0.034821 -0.043401 -0.002592  0.019908 -0.017646\n",
       "1 -0.001882 -0.044642 -0.051474 -0.026328 -0.008449 -0.019163  0.074412 -0.039493 -0.068330 -0.092204\n",
       "2  0.085299  0.050680  0.044451 -0.005671 -0.045599 -0.034194 -0.032356 -0.002592  0.002864 -0.025930\n",
       "3 -0.089063 -0.044642 -0.011595 -0.036656  0.012191  0.024991 -0.036038  0.034309  0.022692 -0.009362\n",
       "4  0.005383 -0.044642 -0.036385  0.021872  0.003935  0.015596  0.008142 -0.002592 -0.031991 -0.046641"
      ]
     },
     "execution_count": 6,
     "metadata": {},
     "output_type": "execute_result"
    }
   ],
   "source": [
    "import pandas as pd \n",
    "X = pd.DataFrame(X,columns=data.feature_names)\n",
    "X.head()"
   ]
  },
  {
   "cell_type": "code",
   "execution_count": 8,
   "metadata": {},
   "outputs": [
    {
     "data": {
      "text/plain": [
       "(442, 10)"
      ]
     },
     "execution_count": 8,
     "metadata": {},
     "output_type": "execute_result"
    }
   ],
   "source": [
    "X.shape"
   ]
  },
  {
   "cell_type": "code",
   "execution_count": 7,
   "metadata": {},
   "outputs": [],
   "source": [
    "X_train, X_test, y_train, y_test = train_test_split(\n",
    "    X, y, test_size=0.3, random_state=1)"
   ]
  },
  {
   "cell_type": "code",
   "execution_count": 9,
   "metadata": {},
   "outputs": [
    {
     "name": "stdout",
     "output_type": "stream",
     "text": [
      "The mean squared error (MSE) on test set: 3753.6048\n"
     ]
    }
   ],
   "source": [
    "params = {'n_estimators': 500,\n",
    "          'max_depth': 4,\n",
    "          'min_samples_split': 5,\n",
    "          'learning_rate': 0.01,\n",
    "          'loss': 'ls'}\n",
    "reg = ensemble.GradientBoostingRegressor(**params)\n",
    "reg.fit(X_train, y_train)\n",
    "\n",
    "mse = mean_squared_error(y_test, reg.predict(X_test))\n",
    "print(\"The mean squared error (MSE) on test set: {:.4f}\".format(mse))"
   ]
  },
  {
   "cell_type": "code",
   "execution_count": 10,
   "metadata": {},
   "outputs": [
    {
     "data": {
      "image/png": "[encoded data removed]",
      "text/plain": [
       "<Figure size 432x432 with 1 Axes>"
      ]
     },
     "metadata": {
      "needs_background": "light"
     },
     "output_type": "display_data"
    }
   ],
   "source": [
    "test_score = np.zeros((params['n_estimators'],), dtype=np.float64)\n",
    "for i, y_pred in enumerate(reg.staged_predict(X_test)):\n",
    "    test_score[i] = reg.loss_(y_test, y_pred)\n",
    "\n",
    "fig = plt.figure(figsize=(6, 6))\n",
    "plt.subplot(1, 1, 1)\n",
    "plt.title('Deviance')\n",
    "plt.plot(np.arange(params['n_estimators']) + 1, reg.train_score_, 'b-',\n",
    "         label='Training Set Deviance')\n",
    "plt.plot(np.arange(params['n_estimators']) + 1, test_score, 'r-',\n",
    "         label='Test Set Deviance')\n",
    "plt.legend(loc='upper right')\n",
    "plt.xlabel('Boosting Iterations')\n",
    "plt.ylabel('Deviance')\n",
    "fig.tight_layout()\n",
    "plt.show()"
   ]
  },
  {
   "cell_type": "code",
   "execution_count": 13,
   "metadata": {},
   "outputs": [
    {
     "data": {
      "image/png": "[encoded data removed]",
      "text/plain": [
       "<Figure size 864x432 with 2 Axes>"
      ]
     },
     "metadata": {
      "needs_background": "light"
     },
     "output_type": "display_data"
    }
   ],
   "source": [
    "feature_importance = reg.feature_importances_\n",
    "sorted_idx = np.argsort(feature_importance)\n",
    "pos = np.arange(sorted_idx.shape[0]) + .5\n",
    "fig = plt.figure(figsize=(12, 6))\n",
    "plt.subplot(1, 2, 1)\n",
    "plt.barh(pos, feature_importance[sorted_idx], align='center')\n",
    "plt.yticks(pos, np.array(data.feature_names)[sorted_idx])\n",
    "plt.title('Feature Importance (MDI)')\n",
    "\n",
    "result = permutation_importance(reg, X_test, y_test, n_repeats=10,\n",
    "                                random_state=42, n_jobs=2)\n",
    "sorted_idx = result.importances_mean.argsort()\n",
    "plt.subplot(1, 2, 2)\n",
    "plt.boxplot(result.importances[sorted_idx].T,\n",
    "            vert=False, labels=np.array(data.feature_names)[sorted_idx])\n",
    "plt.title(\"Permutation Importance (test set)\")\n",
    "fig.tight_layout()\n",
    "plt.show()"
   ]
  },
  {
   "cell_type": "code",
   "execution_count": 14,
   "metadata": {},
   "outputs": [],
   "source": [
    "from sklearn.model_selection import GridSearchCV\n",
    "def Tuning(cv_params, other_params,x_train_array,y_train_):\n",
    "    model2 = ensemble.GradientBoostingRegressor(**other_params)\n",
    "    optimized_GBM = GridSearchCV(estimator=model2, \n",
    "                                 param_grid=cv_params,\n",
    "                                 scoring='neg_mean_squared_error',\n",
    "                                 cv=5, \n",
    "                                 n_jobs=-1)\n",
    "    optimized_GBM.fit(x_train_array, y_train_)\n",
    "    evalute_result = optimized_GBM.cv_results_['mean_test_score']\n",
    "    print('每轮迭代运行结果:{0}'.format(evalute_result))\n",
    "    print('参数的最佳取值：{0}'.format(optimized_GBM.best_params_))\n",
    "    print('最佳模型得分:{0}'.format(optimized_GBM.best_score_))\n",
    "    return optimized_GBM"
   ]
  },
  {
   "cell_type": "code",
   "execution_count": 24,
   "metadata": {},
   "outputs": [
    {
     "name": "stdout",
     "output_type": "stream",
     "text": [
      "每轮迭代运行结果:[-3638.72054129 -3508.14247212 -3439.1105988  -3411.26966851\n",
      " -3379.19731255 -3360.20487765 -3352.48712657 -3338.42691658\n",
      " -3336.43127856 -3348.41175323 -3358.69080437 -3363.01002418\n",
      " -3364.25552115 -3368.95643225 -3371.23084952 -3366.64895522\n",
      " -3368.50938829 -3364.62376276 -3364.70394263 -3366.93076129\n",
      " -3371.23803066 -3359.48064698 -3369.62505326 -3369.78598905\n",
      " -3365.66586979 -3370.87512061 -3369.83259861 -3376.26242639\n",
      " -3380.41740687 -3382.51960697 -3386.68937081 -3386.81829059\n",
      " -3384.7963568  -3392.2026194  -3392.36595787 -3388.17242236\n",
      " -3392.12277562 -3398.91747749 -3398.48180057 -3403.58209999\n",
      " -3402.30716946 -3414.45002626 -3407.77365138 -3411.9467736\n",
      " -3415.43530731]\n",
      "参数的最佳取值：{'n_estimators': 260}\n",
      "最佳模型得分:-3336.431278559966\n"
     ]
    }
   ],
   "source": [
    "other_params = {'n_estimators': 500,\n",
    "          'max_depth': 4,\n",
    "          'min_samples_split': 5,\n",
    "          'learning_rate': 0.01,\n",
    "          'loss': 'ls'}\n",
    "cv_params = {\n",
    "    'n_estimators':np.arange(100,1000,20)\n",
    "}\n",
    "opt = Tuning(cv_params,other_params,X_train,y_train)"
   ]
  },
  {
   "cell_type": "code",
   "execution_count": 25,
   "metadata": {},
   "outputs": [
    {
     "data": {
      "text/plain": [
       "Text(0, 0.5, 'MSE')"
      ]
     },
     "execution_count": 25,
     "metadata": {},
     "output_type": "execute_result"
    },
    {
     "data": {
      "image/png": "[encoded data removed]",
      "text/plain": [
       "<Figure size 432x288 with 1 Axes>"
      ]
     },
     "metadata": {
      "needs_background": "light"
     },
     "output_type": "display_data"
    }
   ],
   "source": [
    "plt.plot(np.arange(100,1000,20),-opt.cv_results_['mean_test_score'] )\n",
    "plt.xlabel('n_estimators')\n",
    "plt.ylabel('MSE')"
   ]
  },
  {
   "cell_type": "code",
   "execution_count": 29,
   "metadata": {},
   "outputs": [
    {
     "name": "stdout",
     "output_type": "stream",
     "text": [
      "每轮迭代运行结果:[           nan -3453.55583329 -3453.55583329 -3453.55583329\n",
      " -3453.55583329 -3453.55583329 -3453.55583329 -3453.55583329\n",
      " -3453.55583329            nan -3237.90479366 -3237.67289372\n",
      " -3237.45142037 -3237.68103247 -3237.67289372 -3237.68103247\n",
      " -3236.78414973 -3235.4499951             nan -3250.74529652\n",
      " -3254.45251943 -3253.21801558 -3243.64809922 -3243.30183639\n",
      " -3235.14340157 -3244.82045334 -3242.35242613            nan\n",
      " -3355.95471162 -3360.62349942 -3338.32275136 -3339.72429801\n",
      " -3334.6454409  -3347.79331607 -3354.73331653 -3336.45159072\n",
      "            nan -3509.94657776 -3520.39063496 -3550.73975953\n",
      " -3500.9324746  -3504.3208005  -3507.2927551  -3495.2493565\n",
      " -3520.18842566            nan -3788.9065026  -3704.52349726\n",
      " -3771.5302907  -3718.43154173 -3684.04212671 -3638.52076809\n",
      " -3613.72731613 -3626.09529817            nan -4138.08200942\n",
      " -4064.96237157 -4059.46113609 -3808.23138872 -3772.45499181\n",
      " -3767.67837104 -3664.89014985 -3671.63515663            nan\n",
      " -4292.00667166 -4022.22606624 -4217.50200251 -3899.58259811\n",
      " -3888.33607955 -3871.88324196 -3738.93376758 -3763.93186532\n",
      "            nan -4822.12744874 -4229.64371762 -4235.21717947\n",
      " -3990.75377828 -3959.27233923 -3947.54141534 -3800.0615933\n",
      " -3786.6664412 ]\n",
      "参数的最佳取值：{'max_depth': 3, 'min_samples_split': 7}\n",
      "最佳模型得分:-3235.143401566548\n"
     ]
    }
   ],
   "source": [
    "other_params = {'n_estimators': 260,\n",
    "          'max_depth': 4,\n",
    "          'min_samples_split': 5,\n",
    "          'learning_rate': 0.01,\n",
    "          'loss': 'ls'}\n",
    "cv_params = {\n",
    "    'max_depth':np.arange(1,10,1),\n",
    "    'min_samples_split':np.arange(1,10,1) \n",
    "}\n",
    "opt = Tuning(cv_params,other_params,X_train,y_train)"
   ]
  },
  {
   "cell_type": "code",
   "execution_count": 43,
   "metadata": {},
   "outputs": [
    {
     "data": {
      "text/plain": [
       "Text(33.0, 0.5, 'min_samples_split')"
      ]
     },
     "execution_count": 43,
     "metadata": {},
     "output_type": "execute_result"
    },
    {
     "data": {
      "image/png": "[encoded data removed]",
      "text/plain": [
       "<Figure size 432x288 with 2 Axes>"
      ]
     },
     "metadata": {
      "needs_background": "light"
     },
     "output_type": "display_data"
    }
   ],
   "source": [
    "import seaborn as sns\n",
    "tem = pd.DataFrame(opt.cv_results_['mean_test_score'].reshape((9,9)),index=np.arange(1,10),columns=np.arange(1,10))\n",
    "ax = sns.heatmap(tem, cmap=\"YlGnBu\")\n",
    "ax.set_xlabel('max_depth')\n",
    "ax.set_ylabel('min_samples_split')"
   ]
  },
  {
   "cell_type": "code",
   "execution_count": 49,
   "metadata": {},
   "outputs": [
    {
     "name": "stdout",
     "output_type": "stream",
     "text": [
      "每轮迭代运行结果:[-5090.71944225 -3845.05212113 -3417.5273061  -3265.14970145\n",
      " -3241.40913551 -3251.13260325 -3268.19604547 -3272.649416\n",
      " -3263.96975898 -3280.53948994 -3286.26207704 -3286.26587173\n",
      " -3269.90531332 -3298.79342194 -3288.53832222 -3307.99225882\n",
      " -3288.13691548 -3332.82450247 -3322.07393745 -3376.15111667\n",
      " -3350.48082774 -3384.51386583 -3380.08816873 -3374.37578837\n",
      " -3467.71684347 -3411.99228121 -3410.86145503 -3449.86503891\n",
      " -3435.57844748 -3425.47660987 -3449.68465379 -3470.64282452\n",
      " -3498.73422247 -3486.79052737 -3515.93874366 -3495.58656961\n",
      " -3414.83130408 -3504.96138971 -3499.34007735 -3500.92962273\n",
      " -3471.87179811 -3523.44306855 -3470.4962579  -3555.47838841\n",
      " -3488.43021746 -3485.1058102  -3503.1991377  -3504.9920395\n",
      " -3645.26374353 -3586.15554933 -3586.37086011 -3562.26475834\n",
      " -3656.24829656 -3596.39360247 -3669.45092429 -3603.37561538\n",
      " -3696.70074299 -3577.8236446  -3688.14665007 -3592.38420614\n",
      " -3614.35427872 -3604.95552426 -3590.33626323 -3607.23228692\n",
      " -3522.61196885 -3729.88575432 -3737.59523716 -3840.98280702\n",
      " -3722.47608075 -3648.92769528 -3733.36891804 -3686.00970047\n",
      " -3678.30293362 -3722.33284573 -3749.85363686]\n",
      "参数的最佳取值：{'learning_rate': 0.009000000000000001}\n",
      "最佳模型得分:-3241.409135508117\n"
     ]
    }
   ],
   "source": [
    "other_params = {'n_estimators': 260,\n",
    "          'max_depth': 3,\n",
    "          'min_samples_split': 7,\n",
    "          'learning_rate': 0.01,\n",
    "          'loss': 'ls'}\n",
    "cv_params = {\n",
    "    'learning_rate':np.arange(0.001,0.15,0.002)\n",
    "}\n",
    "opt = Tuning(cv_params,other_params,X_train,y_train)"
   ]
  },
  {
   "cell_type": "code",
   "execution_count": 51,
   "metadata": {},
   "outputs": [
    {
     "data": {
      "text/plain": [
       "Text(0, 0.5, 'MSE')"
      ]
     },
     "execution_count": 51,
     "metadata": {},
     "output_type": "execute_result"
    },
    {
     "data": {
      "image/png": "[encoded data removed]",
      "text/plain": [
       "<Figure size 432x288 with 1 Axes>"
      ]
     },
     "metadata": {
      "needs_background": "light"
     },
     "output_type": "display_data"
    }
   ],
   "source": [
    "plt.plot(np.arange(0.001,0.15,0.002),-opt.cv_results_['mean_test_score'] )\n",
    "plt.xlabel('leaning_rate')\n",
    "plt.ylabel('MSE')"
   ]
  },
  {
   "cell_type": "code",
   "execution_count": 52,
   "metadata": {},
   "outputs": [
    {
     "name": "stdout",
     "output_type": "stream",
     "text": [
      "The mean squared error (MSE) on test set: 3396.9532\n"
     ]
    }
   ],
   "source": [
    "mse = mean_squared_error(y_test, opt.best_estimator_.predict(X_test))\n",
    "print(\"The mean squared error (MSE) on test set: {:.4f}\".format(mse))"
   ]
  }
 ],
 "metadata": {
  "kernelspec": {
   "display_name": "Python 3",
   "language": "python",
   "name": "python3"
  },
  "language_info": {
   "codemirror_mode": {
    "name": "ipython",
    "version": 3
   },
   "file_extension": ".py",
   "mimetype": "text/x-python",
   "name": "python",
   "nbconvert_exporter": "python",
   "pygments_lexer": "ipython3",
   "version": "3.8.3"
  },
  "toc": {
   "base_numbering": 1,
   "nav_menu": {},
   "number_sections": true,
   "sideBar": true,
   "skip_h1_title": false,
   "title_cell": "Table of Contents",
   "title_sidebar": "Contents",
   "toc_cell": false,
   "toc_position": {},
   "toc_section_display": true,
   "toc_window_display": false
  }
 },
 "nbformat": 4,
 "nbformat_minor": 4
}
